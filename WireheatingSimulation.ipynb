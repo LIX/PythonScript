{
 "cells": [
  {
   "cell_type": "code",
   "execution_count": null,
   "metadata": {},
   "outputs": [],
   "source": [
    "import control as ct\n",
    "import matplotlib.pyplot as plt\n",
    "import numpy as np\n",
    "%matplotlib inline\n",
    "f=20000\n",
    "dt=1/f\n",
    "t=np.arange(0,600*dt,dt)\n",
    "R=0.0023\n",
    "L=46.2e-6\n",
    "tao=3.2e-3/2.2\n",
    "Kp=0.06\n",
    "Ki=0.000001\n",
    "CurrentSensor=ct.tf(1,[tao,1])\n",
    "Gwire=ct.tf(1,[L,R])\n",
    "Cpid=ct.tf([Kp+Ki,-Kp],[1,-1],dt) #discrete pi controller\n",
    "sysd=Cpid*ct.sample_system(Gwire*CurrentSensor, dt)\n",
    "F=G*C\n",
    "Gcl=F/(1+F*B)\n",
    "print(B*G)\n",
    "t1,y1=ct.step_response(100*sysd/(1+sysd),T=t)\n",
    "plt.plot(t1,y1)\n",
    "# t2,y2=ct.step_response(Gcl,T=T)\n",
    "# plt.plot(t2,y2)"
   ]
  }
 ],
 "metadata": {
  "kernelspec": {
   "display_name": "Python 3",
   "language": "python",
   "name": "python3"
  },
  "language_info": {
   "codemirror_mode": {
    "name": "ipython",
    "version": 3
   },
   "file_extension": ".py",
   "mimetype": "text/x-python",
   "name": "python",
   "nbconvert_exporter": "python",
   "pygments_lexer": "ipython3",
   "version": "3.7.4"
  }
 },
 "nbformat": 4,
 "nbformat_minor": 2
}
